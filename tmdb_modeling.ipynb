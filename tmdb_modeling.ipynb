{
 "cells": [
  {
   "cell_type": "markdown",
   "id": "b1828149",
   "metadata": {},
   "source": [
    "# TMDb Movie Success Prediction\n",
    "Predicting whether a movie is financially successful using metadata and machine learning models (Logistic Regression and KNN)."
   ]
  },
  {
   "cell_type": "code",
   "execution_count": 1,
   "id": "b1866692",
   "metadata": {},
   "outputs": [],
   "source": [
    "import pandas as pd\n",
    "import numpy as np\n",
    "import matplotlib.pyplot as plt\n",
    "import seaborn as sns\n",
    "import ast\n",
    "from sklearn.model_selection import train_test_split\n",
    "from sklearn.preprocessing import StandardScaler\n",
    "from sklearn.linear_model import LogisticRegression\n",
    "from sklearn.neighbors import KNeighborsClassifier\n",
    "from sklearn.metrics import classification_report, confusion_matrix\n",
    "import warnings\n",
    "warnings.filterwarnings('ignore')"
   ]
  },
  {
   "cell_type": "markdown",
   "id": "01250c21",
   "metadata": {},
   "source": [
    "## 1.Load and merge datasets"
   ]
  },
  {
   "cell_type": "code",
   "execution_count": 7,
   "id": "285224bc",
   "metadata": {},
   "outputs": [],
   "source": [
    "# Load datasets\n",
    "movies_df = pd.read_csv('C:/Users/MEHR GOSTAR/OneDrive/Desktop/git projects/dataset tmbd-movies-analysis/datasets/tmdb_5000_movies.csv')\n",
    "credits_df = pd.read_csv('C:/Users/MEHR GOSTAR/OneDrive/Desktop/git projects/dataset tmbd-movies-analysis/datasets/tmdb_5000_credits.csv')\n",
    "# Merge datasets\n",
    "credits_df.rename(columns={'movie_id': 'id'}, inplace=True)\n",
    "data_frame = movies_df.merge(credits_df, on='id')"
   ]
  },
  {
   "cell_type": "markdown",
   "id": "dd50514b",
   "metadata": {},
   "source": [
    "## 2. Load and Prepare Data"
   ]
  },
  {
   "cell_type": "code",
   "execution_count": 8,
   "id": "b6b21f78",
   "metadata": {},
   "outputs": [],
   "source": [
    "data_frame = data_frame[(data_frame['budget'] > 0) & (data_frame['revenue'] > 0)]\n",
    "data_frame['is_successful'] = (data_frame['revenue'] > data_frame['budget']).astype(int)"
   ]
  },
  {
   "cell_type": "markdown",
   "id": "8770f623",
   "metadata": {},
   "source": [
    "## 3. Extract Main Genre\n"
   ]
  },
  {
   "cell_type": "code",
   "execution_count": 9,
   "id": "78a3dd15",
   "metadata": {},
   "outputs": [],
   "source": [
    "data_frame['genres'] = data_frame['genres'].apply(ast.literal_eval)\n",
    "data_frame['genre_main'] = data_frame['genres'].apply(lambda x: x[0]['name'] if len(x) > 0 else 'Unknown')"
   ]
  },
  {
   "cell_type": "markdown",
   "id": "c9b715f3",
   "metadata": {},
   "source": [
    "## 4. Feature Engineering"
   ]
  },
  {
   "cell_type": "code",
   "execution_count": 10,
   "id": "50abb813",
   "metadata": {},
   "outputs": [],
   "source": [
    "X = data_frame[['budget', 'popularity', 'runtime', 'genre_main']]\n",
    "y = data_frame['is_successful']\n",
    "X = pd.get_dummies(X, columns=['genre_main'], drop_first=True)\n",
    "X['runtime'] = X['runtime'].fillna(X['runtime'].median())"
   ]
  },
  {
   "cell_type": "markdown",
   "id": "585f6d89",
   "metadata": {},
   "source": [
    "## 5. Train/Test Split and Scaling\n"
   ]
  },
  {
   "cell_type": "code",
   "execution_count": 11,
   "id": "6e835931",
   "metadata": {},
   "outputs": [],
   "source": [
    "\n",
    "X_train, X_test, y_train, y_test = train_test_split(X, y, test_size=0.2, random_state=42)\n",
    "scaler = StandardScaler()\n",
    "X_train_scaled = scaler.fit_transform(X_train)\n",
    "X_test_scaled = scaler.transform(X_test)"
   ]
  },
  {
   "cell_type": "markdown",
   "id": "65f85803",
   "metadata": {},
   "source": [
    "\n",
    "## 6. Logistic Regression Model\n"
   ]
  },
  {
   "cell_type": "code",
   "execution_count": 12,
   "id": "07b6bd90",
   "metadata": {},
   "outputs": [
    {
     "name": "stdout",
     "output_type": "stream",
     "text": [
      "Logistic Regression Results:\\n\n",
      "              precision    recall  f1-score   support\n",
      "\n",
      "           0       0.64      0.30      0.41       157\n",
      "           1       0.81      0.95      0.87       489\n",
      "\n",
      "    accuracy                           0.79       646\n",
      "   macro avg       0.73      0.62      0.64       646\n",
      "weighted avg       0.77      0.79      0.76       646\n",
      "\n"
     ]
    }
   ],
   "source": [
    "\n",
    "lr = LogisticRegression()\n",
    "lr.fit(X_train_scaled, y_train)\n",
    "y_pred_lr = lr.predict(X_test_scaled)\n",
    "print(\"Logistic Regression Results:\\\\n\")\n",
    "print(classification_report(y_test, y_pred_lr))\n"
   ]
  },
  {
   "cell_type": "markdown",
   "id": "3bcc2fc2",
   "metadata": {},
   "source": [
    "## 7. K-Nearest Neighbors (KNN) Model"
   ]
  },
  {
   "cell_type": "code",
   "execution_count": 13,
   "id": "c8733f68",
   "metadata": {},
   "outputs": [
    {
     "name": "stdout",
     "output_type": "stream",
     "text": [
      "KNN Results:\\n\n",
      "              precision    recall  f1-score   support\n",
      "\n",
      "           0       0.54      0.34      0.42       157\n",
      "           1       0.81      0.91      0.86       489\n",
      "\n",
      "    accuracy                           0.77       646\n",
      "   macro avg       0.68      0.62      0.64       646\n",
      "weighted avg       0.75      0.77      0.75       646\n",
      "\n"
     ]
    }
   ],
   "source": [
    "knn = KNeighborsClassifier(n_neighbors=5)\n",
    "knn.fit(X_train_scaled, y_train)\n",
    "y_pred_knn = knn.predict(X_test_scaled)\n",
    "print(\"KNN Results:\\\\n\")\n",
    "print(classification_report(y_test, y_pred_knn))"
   ]
  },
  {
   "cell_type": "markdown",
   "id": "fc4f8f6c",
   "metadata": {},
   "source": [
    "## 8. Confusion Matrix for KNN"
   ]
  },
  {
   "cell_type": "code",
   "execution_count": 14,
   "id": "8aef95e2",
   "metadata": {},
   "outputs": [
    {
     "data": {
      "image/png": "[encoded data removed]",
      "text/plain": [
       "<Figure size 640x480 with 2 Axes>"
      ]
     },
     "metadata": {},
     "output_type": "display_data"
    }
   ],
   "source": [
    "cm = confusion_matrix(y_test, y_pred_knn)\n",
    "sns.heatmap(cm, annot=True, fmt='d', cmap='Blues')\n",
    "plt.title('Confusion Matrix - KNN')\n",
    "plt.xlabel('Predicted')\n",
    "plt.ylabel('Actual')\n",
    "plt.show()"
   ]
  }
 ],
 "metadata": {
  "kernelspec": {
   "display_name": "Python 3",
   "language": "python",
   "name": "python3"
  },
  "language_info": {
   "codemirror_mode": {
    "name": "ipython",
    "version": 3
   },
   "file_extension": ".py",
   "mimetype": "text/x-python",
   "name": "python",
   "nbconvert_exporter": "python",
   "pygments_lexer": "ipython3",
   "version": "3.13.5"
  }
 },
 "nbformat": 4,
 "nbformat_minor": 5
}
